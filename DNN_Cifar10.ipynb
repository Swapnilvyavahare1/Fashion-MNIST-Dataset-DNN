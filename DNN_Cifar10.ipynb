{
  "nbformat": 4,
  "nbformat_minor": 0,
  "metadata": {
    "colab": {
      "provenance": []
    },
    "kernelspec": {
      "name": "python3",
      "display_name": "Python 3"
    },
    "language_info": {
      "name": "python"
    },
    "accelerator": "GPU",
    "gpuClass": "standard"
  },
  "cells": [
    {
      "cell_type": "code",
      "execution_count": 1,
      "metadata": {
        "id": "oDzlDQydolhZ"
      },
      "outputs": [],
      "source": [
        "import numpy as np\n",
        "import pandas as pd\n",
        "import matplotlib.pyplot as plt\n",
        "import seaborn as sns\n",
        "import warnings\n",
        "warnings.filterwarnings('ignore')"
      ]
    },
    {
      "cell_type": "code",
      "source": [
        "import tensorflow as tf\n",
        "from tensorflow import keras\n",
        "print(tf.__version__)"
      ],
      "metadata": {
        "colab": {
          "base_uri": "https://localhost:8080/"
        },
        "id": "5WgzHfR-ovoA",
        "outputId": "4e7cf40b-3f54-4cda-ff49-f066b6f1b126"
      },
      "execution_count": 2,
      "outputs": [
        {
          "output_type": "stream",
          "name": "stdout",
          "text": [
            "2.12.0\n"
          ]
        }
      ]
    },
    {
      "cell_type": "code",
      "source": [
        "cifar10= keras.datasets.cifar10\n",
        "cifar10"
      ],
      "metadata": {
        "colab": {
          "base_uri": "https://localhost:8080/"
        },
        "id": "b521X3_voxMo",
        "outputId": "8ab17b06-79fd-4418-d800-46062250f118"
      },
      "execution_count": 3,
      "outputs": [
        {
          "output_type": "execute_result",
          "data": {
            "text/plain": [
              "<module 'keras.api._v2.keras.datasets.cifar10' from '/usr/local/lib/python3.9/dist-packages/keras/api/_v2/keras/datasets/cifar10/__init__.py'>"
            ]
          },
          "metadata": {},
          "execution_count": 3
        }
      ]
    },
    {
      "cell_type": "code",
      "source": [
        "(x_train, y_train), (x_test, y_test) = keras.datasets.cifar10.load_data()"
      ],
      "metadata": {
        "colab": {
          "base_uri": "https://localhost:8080/"
        },
        "id": "bC0c3q-eo6mQ",
        "outputId": "2aee7edf-01a9-429f-c664-7f4922bdf5be"
      },
      "execution_count": 4,
      "outputs": [
        {
          "output_type": "stream",
          "name": "stdout",
          "text": [
            "Downloading data from https://www.cs.toronto.edu/~kriz/cifar-10-python.tar.gz\n",
            "170498071/170498071 [==============================] - 3s 0us/step\n"
          ]
        }
      ]
    },
    {
      "cell_type": "code",
      "source": [
        "print(x_train.shape, y_train.shape)\n",
        "print(x_test.shape, y_test.shape)"
      ],
      "metadata": {
        "colab": {
          "base_uri": "https://localhost:8080/"
        },
        "id": "XgWKPo_Eo8WA",
        "outputId": "5b1a37b2-63bb-48de-f6cc-39ac10ac4bf0"
      },
      "execution_count": 5,
      "outputs": [
        {
          "output_type": "stream",
          "name": "stdout",
          "text": [
            "(50000, 32, 32, 3) (50000, 1)\n",
            "(10000, 32, 32, 3) (10000, 1)\n"
          ]
        }
      ]
    },
    {
      "cell_type": "code",
      "source": [
        "x_train= x_train/255.0\n",
        "y_train= y_train/255.0"
      ],
      "metadata": {
        "id": "-slEjA22pC_3"
      },
      "execution_count": 6,
      "outputs": []
    },
    {
      "cell_type": "code",
      "source": [
        "tf.random.set_seed(101)\n",
        "tf.keras.backend.clear_session()\n",
        "\n",
        "model= None\n",
        "\n",
        "model= keras.Sequential([\n",
        "    keras.layers.Flatten(input_shape=(32,32,3)),\n",
        "    keras.layers.Dense(128, activation='relu'),\n",
        "    keras.layers.Dense(10, activation='softmax')\n",
        "    \n",
        "])"
      ],
      "metadata": {
        "id": "I-qm-kqtpHKx"
      },
      "execution_count": 8,
      "outputs": []
    },
    {
      "cell_type": "code",
      "source": [
        "model.summary()"
      ],
      "metadata": {
        "colab": {
          "base_uri": "https://localhost:8080/"
        },
        "id": "wFlxmmj_pN-n",
        "outputId": "0040ec74-23b7-4de6-ac7f-b9c3362fee14"
      },
      "execution_count": 9,
      "outputs": [
        {
          "output_type": "stream",
          "name": "stdout",
          "text": [
            "Model: \"sequential\"\n",
            "_________________________________________________________________\n",
            " Layer (type)                Output Shape              Param #   \n",
            "=================================================================\n",
            " flatten (Flatten)           (None, 3072)              0         \n",
            "                                                                 \n",
            " dense (Dense)               (None, 128)               393344    \n",
            "                                                                 \n",
            " dense_1 (Dense)             (None, 10)                1290      \n",
            "                                                                 \n",
            "=================================================================\n",
            "Total params: 394,634\n",
            "Trainable params: 394,634\n",
            "Non-trainable params: 0\n",
            "_________________________________________________________________\n"
          ]
        }
      ]
    },
    {
      "cell_type": "code",
      "source": [
        "from keras.utils import plot_model\n",
        "plot_model(model, 'model.png', show_shapes= True)"
      ],
      "metadata": {
        "colab": {
          "base_uri": "https://localhost:8080/",
          "height": 422
        },
        "id": "DOXGWYyVpRiu",
        "outputId": "40d00e21-85fc-4694-e00c-205b17ecf91a"
      },
      "execution_count": 10,
      "outputs": [
        {
          "output_type": "execute_result",
          "data": {
            "image/png": "[encoded data removed]",
            "text/plain": [
              "<IPython.core.display.Image object>"
            ]
          },
          "metadata": {},
          "execution_count": 10
        }
      ]
    },
    {
      "cell_type": "code",
      "source": [
        "model.compile(optimizer= 'adam', loss= tf.keras.losses.SparseCategoricalCrossentropy(from_logits=True),\n",
        "              metrics=['accuracy'])"
      ],
      "metadata": {
        "id": "A5M0hOF7pUC-"
      },
      "execution_count": 11,
      "outputs": []
    },
    {
      "cell_type": "code",
      "source": [
        "model.fit(x_train, y_train, validation_data= (x_test, y_test), epochs=20, batch_size=64)"
      ],
      "metadata": {
        "colab": {
          "base_uri": "https://localhost:8080/"
        },
        "id": "DtiC8MTHpYLh",
        "outputId": "55ac8e3b-ecc1-443a-819b-0a64bb50991f"
      },
      "execution_count": 12,
      "outputs": [
        {
          "output_type": "stream",
          "name": "stdout",
          "text": [
            "Epoch 1/20\n",
            "782/782 [==============================] - 11s 6ms/step - loss: 0.0044 - accuracy: 0.0998 - val_loss: 16577.2305 - val_accuracy: 0.1000\n",
            "Epoch 2/20\n",
            "782/782 [==============================] - 5s 7ms/step - loss: 6.0122e-07 - accuracy: 0.1000 - val_loss: 17944.0840 - val_accuracy: 0.1000\n",
            "Epoch 3/20\n",
            "782/782 [==============================] - 4s 5ms/step - loss: 2.0938e-07 - accuracy: 0.1000 - val_loss: 19240.5410 - val_accuracy: 0.1000\n",
            "Epoch 4/20\n",
            "782/782 [==============================] - 4s 5ms/step - loss: 7.2335e-08 - accuracy: 0.1000 - val_loss: 20017.0977 - val_accuracy: 0.1000\n",
            "Epoch 5/20\n",
            "782/782 [==============================] - 5s 6ms/step - loss: 3.6550e-08 - accuracy: 0.1000 - val_loss: 20696.1172 - val_accuracy: 0.1000\n",
            "Epoch 6/20\n",
            "782/782 [==============================] - 4s 5ms/step - loss: 1.9428e-08 - accuracy: 0.1000 - val_loss: 21130.7305 - val_accuracy: 0.1000\n",
            "Epoch 7/20\n",
            "782/782 [==============================] - 4s 5ms/step - loss: 1.2588e-08 - accuracy: 0.1000 - val_loss: 21571.9180 - val_accuracy: 0.1000\n",
            "Epoch 8/20\n",
            "782/782 [==============================] - 5s 6ms/step - loss: 7.4400e-09 - accuracy: 0.1000 - val_loss: 22042.1680 - val_accuracy: 0.1000\n",
            "Epoch 9/20\n",
            "782/782 [==============================] - 4s 5ms/step - loss: 4.7799e-09 - accuracy: 0.1000 - val_loss: 22390.9082 - val_accuracy: 0.1000\n",
            "Epoch 10/20\n",
            "782/782 [==============================] - 4s 5ms/step - loss: 3.2852e-09 - accuracy: 0.1000 - val_loss: 22691.3086 - val_accuracy: 0.1000\n",
            "Epoch 11/20\n",
            "782/782 [==============================] - 4s 6ms/step - loss: 2.3316e-09 - accuracy: 0.1000 - val_loss: 23027.7559 - val_accuracy: 0.1000\n",
            "Epoch 12/20\n",
            "782/782 [==============================] - 4s 5ms/step - loss: 1.6117e-09 - accuracy: 0.1000 - val_loss: 23322.6719 - val_accuracy: 0.1000\n",
            "Epoch 13/20\n",
            "782/782 [==============================] - 5s 6ms/step - loss: 1.1468e-09 - accuracy: 0.1000 - val_loss: 23610.3086 - val_accuracy: 0.1000\n",
            "Epoch 14/20\n",
            "782/782 [==============================] - 4s 6ms/step - loss: 8.2730e-10 - accuracy: 0.1000 - val_loss: 23880.7832 - val_accuracy: 0.1000\n",
            "Epoch 15/20\n",
            "782/782 [==============================] - 4s 5ms/step - loss: 6.2227e-10 - accuracy: 0.1000 - val_loss: 24119.5176 - val_accuracy: 0.1000\n",
            "Epoch 16/20\n",
            "782/782 [==============================] - 4s 6ms/step - loss: 4.8637e-10 - accuracy: 0.1000 - val_loss: 24373.0977 - val_accuracy: 0.1000\n",
            "Epoch 17/20\n",
            "782/782 [==============================] - 4s 5ms/step - loss: 3.7908e-10 - accuracy: 0.1000 - val_loss: 24602.5391 - val_accuracy: 0.1000\n",
            "Epoch 18/20\n",
            "782/782 [==============================] - 4s 5ms/step - loss: 2.9564e-10 - accuracy: 0.1000 - val_loss: 24813.7207 - val_accuracy: 0.1000\n",
            "Epoch 19/20\n",
            "782/782 [==============================] - 4s 6ms/step - loss: 2.3603e-10 - accuracy: 0.1000 - val_loss: 25010.8770 - val_accuracy: 0.1000\n",
            "Epoch 20/20\n",
            "782/782 [==============================] - 4s 5ms/step - loss: 1.9073e-10 - accuracy: 0.1000 - val_loss: 25193.5234 - val_accuracy: 0.1000\n"
          ]
        },
        {
          "output_type": "execute_result",
          "data": {
            "text/plain": [
              "<keras.callbacks.History at 0x7f1c58348760>"
            ]
          },
          "metadata": {},
          "execution_count": 12
        }
      ]
    }
  ]
}